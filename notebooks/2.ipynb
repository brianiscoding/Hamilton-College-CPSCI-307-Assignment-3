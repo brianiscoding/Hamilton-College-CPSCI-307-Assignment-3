{
 "cells": [
  {
   "cell_type": "code",
   "execution_count": 1,
   "metadata": {},
   "outputs": [],
   "source": [
    "import sys\n",
    "import os\n",
    "\n",
    "sys.path.append(os.path.abspath(\"..\"))\n",
    "import src.config as c\n",
    "from src.model.encoder import EncoderRNN \n",
    "from src.model.decoder import AttnDecoderRNN"
   ]
  },
  {
   "cell_type": "code",
   "execution_count": 2,
   "metadata": {},
   "outputs": [
    {
     "name": "stderr",
     "output_type": "stream",
     "text": [
      "/var/folders/v9/tcpqr25x7jj98fksd8x32fnh0000gn/T/ipykernel_7216/1733018972.py:12: FutureWarning: You are using `torch.load` with `weights_only=False` (the current default value), which uses the default pickle module implicitly. It is possible to construct malicious pickle data which will execute arbitrary code during unpickling (See https://github.com/pytorch/pytorch/blob/main/SECURITY.md#untrusted-models for more details). In a future release, the default value for `weights_only` will be flipped to `True`. This limits the functions that could be executed during unpickling. Arbitrary objects will no longer be allowed to be loaded via this mode unless they are explicitly allowlisted by the user via `torch.serialization.add_safe_globals`. We recommend you start setting `weights_only=True` for any use case where you don't have full control of the loaded file. Please open an issue on GitHub for any issues related to this experimental feature.\n",
      "  encoder.load_state_dict(torch.load('../logs/model_checkpoint/encoder.pth'))\n",
      "/var/folders/v9/tcpqr25x7jj98fksd8x32fnh0000gn/T/ipykernel_7216/1733018972.py:13: FutureWarning: You are using `torch.load` with `weights_only=False` (the current default value), which uses the default pickle module implicitly. It is possible to construct malicious pickle data which will execute arbitrary code during unpickling (See https://github.com/pytorch/pytorch/blob/main/SECURITY.md#untrusted-models for more details). In a future release, the default value for `weights_only` will be flipped to `True`. This limits the functions that could be executed during unpickling. Arbitrary objects will no longer be allowed to be loaded via this mode unless they are explicitly allowlisted by the user via `torch.serialization.add_safe_globals`. We recommend you start setting `weights_only=True` for any use case where you don't have full control of the loaded file. Please open an issue on GitHub for any issues related to this experimental feature.\n",
      "  decoder.load_state_dict(torch.load('../logs/model_checkpoint/decoder.pth'))\n"
     ]
    },
    {
     "data": {
      "text/plain": [
       "<All keys matched successfully>"
      ]
     },
     "execution_count": 2,
     "metadata": {},
     "output_type": "execute_result"
    }
   ],
   "source": [
    "import torch\n",
    "\n",
    "hidden_size = 128\n",
    "batch_size = 32\n",
    "\n",
    "# input_lang, output_lang, train_dataloader = get_dataloader(batch_size)\n",
    "# encoder = EncoderRNN(input_lang.n_words, hidden_size).to(device)\n",
    "# decoder = AttnDecoderRNN(hidden_size, output_lang.n_words).to(device)\n",
    "encoder = EncoderRNN(4981, hidden_size)\n",
    "decoder = AttnDecoderRNN(hidden_size, 3225)\n",
    "\n",
    "encoder.load_state_dict(torch.load('../logs/model_checkpoint/encoder.pth'))\n",
    "decoder.load_state_dict(torch.load('../logs/model_checkpoint/decoder.pth'))"
   ]
  },
  {
   "cell_type": "code",
   "execution_count": 3,
   "metadata": {},
   "outputs": [
    {
     "name": "stdout",
     "output_type": "stream",
     "text": [
      "Reading lines...\n",
      "Read 167130 sentence pairs\n",
      "Trimmed to 13571 sentence pairs\n",
      "Counting words...\n",
      "Counted words:\n",
      "fra 4981\n",
      "eng 3225\n"
     ]
    }
   ],
   "source": [
    "from src.data_preprocessing.preprocess import prepareData\n",
    "\n",
    "input_lang, output_lang, pairs = prepareData(\"eng\", \"fra\", True)"
   ]
  },
  {
   "cell_type": "code",
   "execution_count": 4,
   "metadata": {},
   "outputs": [
    {
     "name": "stdout",
     "output_type": "stream",
     "text": [
      "> tu es un de ces menteurs !\n",
      "= you are such a liar !\n",
      "< you are such a liar ! <EOS>\n",
      "\n",
      "> je ne m alarme pas\n",
      "= i m not alarmed\n",
      "< i m not alarmed surprised of attention <EOS>\n",
      "\n",
      "> je suis impatiente de te voir danser\n",
      "= i m looking forward to seeing you dance\n",
      "< i m looking forward to seeing you dance <EOS>\n",
      "\n",
      "> elle a la baraka\n",
      "= she s on a roll\n",
      "< she s on to roll <EOS>\n",
      "\n",
      "> je vais a un concert ce soir\n",
      "= i m going to a concert tonight\n",
      "< i m going to a concert tonight <EOS>\n",
      "\n",
      "> il est peu probable que je le refasse\n",
      "= i m not likely to do that again\n",
      "< i m not likely to do that again <EOS>\n",
      "\n",
      "> je suis une artiste\n",
      "= i m an artist\n",
      "< i am an artist an artist <EOS>\n",
      "\n",
      "> je suis un peu fatiguee aujourd hui\n",
      "= i m a little tired today\n",
      "< i m a little bit tired today <EOS>\n",
      "\n",
      "> il est loin d etre riche\n",
      "= he is far from rich\n",
      "< he is far from rich rich <EOS>\n",
      "\n",
      "> il est de loin le meilleur etudiant\n",
      "= he is by far the best student\n",
      "< he is by far the best student <EOS>\n",
      "\n"
     ]
    }
   ],
   "source": [
    "from src.training.evaluator import evaluateRandomly\n",
    "\n",
    "evaluateRandomly(encoder, decoder, pairs, input_lang, output_lang)"
   ]
  }
 ],
 "metadata": {
  "kernelspec": {
   "display_name": "Python 3",
   "language": "python",
   "name": "python3"
  },
  "language_info": {
   "codemirror_mode": {
    "name": "ipython",
    "version": 3
   },
   "file_extension": ".py",
   "mimetype": "text/x-python",
   "name": "python",
   "nbconvert_exporter": "python",
   "pygments_lexer": "ipython3",
   "version": "3.12.4"
  }
 },
 "nbformat": 4,
 "nbformat_minor": 2
}
