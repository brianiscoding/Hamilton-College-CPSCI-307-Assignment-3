{
 "cells": [
  {
   "cell_type": "code",
   "execution_count": 1,
   "metadata": {},
   "outputs": [],
   "source": [
    "import sys\n",
    "import os\n",
    "sys.path.append(os.path.abspath(\"..\"))\n",
    "import torch\n",
    "\n",
    "\n",
    "from src.data_preprocessing.preprocess import prepareData\n",
    "from src.model.encoder import EncoderRNN \n",
    "from src.model.decoder import AttnDecoderRNN\n",
    "from src.training.evaluator import evaluateRandomly"
   ]
  },
  {
   "cell_type": "code",
   "execution_count": 2,
   "metadata": {},
   "outputs": [
    {
     "name": "stdout",
     "output_type": "stream",
     "text": [
      "Reading lines...\n",
      "Read 167130 sentence pairs\n",
      "Trimmed to 13571 sentence pairs\n",
      "Counting words...\n",
      "Counted words:\n",
      "fra 4981\n",
      "eng 3225\n"
     ]
    }
   ],
   "source": [
    "input_lang, output_lang, pairs = prepareData(\"eng\", \"fra\", True)"
   ]
  },
  {
   "cell_type": "code",
   "execution_count": 3,
   "metadata": {},
   "outputs": [
    {
     "name": "stderr",
     "output_type": "stream",
     "text": [
      "/var/folders/v9/tcpqr25x7jj98fksd8x32fnh0000gn/T/ipykernel_7440/1107432950.py:6: FutureWarning: You are using `torch.load` with `weights_only=False` (the current default value), which uses the default pickle module implicitly. It is possible to construct malicious pickle data which will execute arbitrary code during unpickling (See https://github.com/pytorch/pytorch/blob/main/SECURITY.md#untrusted-models for more details). In a future release, the default value for `weights_only` will be flipped to `True`. This limits the functions that could be executed during unpickling. Arbitrary objects will no longer be allowed to be loaded via this mode unless they are explicitly allowlisted by the user via `torch.serialization.add_safe_globals`. We recommend you start setting `weights_only=True` for any use case where you don't have full control of the loaded file. Please open an issue on GitHub for any issues related to this experimental feature.\n",
      "  encoder.load_state_dict(torch.load('../logs/model_checkpoint/encoder.pth'))\n",
      "/var/folders/v9/tcpqr25x7jj98fksd8x32fnh0000gn/T/ipykernel_7440/1107432950.py:7: FutureWarning: You are using `torch.load` with `weights_only=False` (the current default value), which uses the default pickle module implicitly. It is possible to construct malicious pickle data which will execute arbitrary code during unpickling (See https://github.com/pytorch/pytorch/blob/main/SECURITY.md#untrusted-models for more details). In a future release, the default value for `weights_only` will be flipped to `True`. This limits the functions that could be executed during unpickling. Arbitrary objects will no longer be allowed to be loaded via this mode unless they are explicitly allowlisted by the user via `torch.serialization.add_safe_globals`. We recommend you start setting `weights_only=True` for any use case where you don't have full control of the loaded file. Please open an issue on GitHub for any issues related to this experimental feature.\n",
      "  decoder.load_state_dict(torch.load('../logs/model_checkpoint/decoder.pth'))\n"
     ]
    },
    {
     "data": {
      "text/plain": [
       "<All keys matched successfully>"
      ]
     },
     "execution_count": 3,
     "metadata": {},
     "output_type": "execute_result"
    }
   ],
   "source": [
    "hidden_size = 128\n",
    "\n",
    "encoder = EncoderRNN(input_lang.n_words, hidden_size)\n",
    "decoder = AttnDecoderRNN(hidden_size, output_lang.n_words)\n",
    "\n",
    "encoder.load_state_dict(torch.load('../logs/model_checkpoint/encoder.pth'))\n",
    "decoder.load_state_dict(torch.load('../logs/model_checkpoint/decoder.pth'))"
   ]
  },
  {
   "cell_type": "code",
   "execution_count": 4,
   "metadata": {},
   "outputs": [
    {
     "name": "stdout",
     "output_type": "stream",
     "text": [
      "> je suis lie a lui par une etroite amitie\n",
      "= i am bound to him by a close friendship\n",
      "< i am bound to him by a close friendship <EOS>\n",
      "\n",
      "> il depend completement de ses parents\n",
      "= he is totally dependent on his parents\n",
      "< he is totally dependent on his parents <EOS>\n",
      "\n",
      "> nous nous echappons\n",
      "= we re escaping\n",
      "< we re escaping <EOS>\n",
      "\n",
      "> ils ont tort !\n",
      "= they re wrong\n",
      "< they re wrong ! <EOS>\n",
      "\n",
      "> je ne suis plus un enfant\n",
      "= i am no longer a child\n",
      "< i m not a kid anymore <EOS>\n",
      "\n",
      "> elle est certaine de reussir les examens\n",
      "= she is certain to pass the exam\n",
      "< she is certain to pass the exam <EOS>\n",
      "\n",
      "> je suis ponctuel\n",
      "= i m punctual\n",
      "< i m punctual in time <EOS>\n",
      "\n",
      "> elle est gentille\n",
      "= she is kind\n",
      "< she is gentle supposed to hear that <EOS>\n",
      "\n",
      "> tu me genes\n",
      "= you re embarrassing me\n",
      "< you re embarrassing me like me <EOS>\n",
      "\n",
      "> tu n es pas habillee\n",
      "= you re not dressed\n",
      "< you re not dressed this together <EOS>\n",
      "\n"
     ]
    }
   ],
   "source": [
    "evaluateRandomly(encoder, decoder, pairs, input_lang, output_lang)"
   ]
  }
 ],
 "metadata": {
  "kernelspec": {
   "display_name": "Python 3",
   "language": "python",
   "name": "python3"
  },
  "language_info": {
   "codemirror_mode": {
    "name": "ipython",
    "version": 3
   },
   "file_extension": ".py",
   "mimetype": "text/x-python",
   "name": "python",
   "nbconvert_exporter": "python",
   "pygments_lexer": "ipython3",
   "version": "3.12.4"
  }
 },
 "nbformat": 4,
 "nbformat_minor": 2
}
