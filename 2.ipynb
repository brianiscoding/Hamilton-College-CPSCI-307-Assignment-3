{
 "cells": [
  {
   "cell_type": "code",
   "execution_count": null,
   "metadata": {
    "vscode": {
     "languageId": "plaintext"
    }
   },
   "outputs": [],
   "source": [
    "encoder = Encoder()\n",
    "decoder = Decoder()\n",
    "\n",
    "encoder.load_state_dict(torch.load('encoder.pth'))\n",
    "decoder.load_state_dict(torch.load('decoder.pth'))\n",
    "\n",
    "# Set the models to eval mode if you are not training\n",
    "encoder.eval()\n",
    "decoder.eval()"
   ]
  }
 ],
 "metadata": {
  "language_info": {
   "name": "python"
  }
 },
 "nbformat": 4,
 "nbformat_minor": 2
}
